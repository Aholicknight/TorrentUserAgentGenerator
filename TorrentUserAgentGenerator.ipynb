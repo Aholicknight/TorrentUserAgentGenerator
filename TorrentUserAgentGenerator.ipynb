{
 "cells": [
  {
   "cell_type": "code",
   "execution_count": null,
   "metadata": {},
   "outputs": [],
   "source": [
    "%pip install beautifulsoup4==4.9.3\n",
    "%pip install requests==2.31.0\n"
   ]
  },
  {
   "cell_type": "code",
   "execution_count": null,
   "metadata": {},
   "outputs": [],
   "source": [
    "import requests\n",
    "from bs4 import BeautifulSoup\n",
    "import random\n",
    "import string\n",
    "\n",
    "# Function to generate a random alphanumeric string of given length\n",
    "def generate_random_string(length):\n",
    "    characters = string.ascii_letters + string.digits\n",
    "    return ''.join(random.choice(characters) for _ in range(length))\n",
    "\n",
    "# URL of the qBittorrent download page\n",
    "url = \"https://www.qbittorrent.org/download\"\n",
    "\n",
    "print(\"qBittorrent torrent user agent generator\")\n",
    "print(\"=======================================\")\n",
    "print(\"This script will generate a torrent user agent for use with Tixati or any other torrent client that lets you spoof your user agent.\")\n",
    "print(\"The user agent will be generated based on the latest version of qBittorrent available on the download page.\")\n",
    "print(\"The script will also generate a random 12 length peer ID and an xfer_peerid.\")\n",
    "print(\"=======================================\")\n",
    "print(\"\")\n",
    "input(\"To continue with the generation, press enter. To exit, press CTRL+C.\")\n",
    "print(\"Connecting to\", url)\n",
    "\n",
    "# Send a GET request to the page\n",
    "response = requests.get(url)\n",
    "\n",
    "# Check if the request was successful (HTTP 200 OK) and exit if not\n",
    "if response.status_code != 200:\n",
    "    print(\"Cannot connect to qBittorrent download page:\", response.status_code)\n",
    "    exit()\n",
    "\n",
    "# Create a BeautifulSoup object to parse the HTML content\n",
    "soup = BeautifulSoup(response.content, \"html.parser\")\n",
    "\n",
    "# Find the latest version number\n",
    "latest_version_tag = soup.select_one(\"p.releaseParagraph strong a\")\n",
    "latest_version = latest_version_tag.get_text().split(\"v\")[1]\n",
    "\n",
    "# Display the latest version number\n",
    "print(\"Latest version number:\", latest_version)\n",
    "\n",
    "# Generate the torrent user agent\n",
    "user_agent = f\"qBittorrent/{latest_version}\"\n",
    "\n",
    "# Generate the peer ID\n",
    "peer_id_prefix = f\"-qB{latest_version.replace('.', '')}0-\"\n",
    "peer_id = peer_id_prefix + generate_random_string(11) + \"0\"\n",
    "\n",
    "# Generate the xfer_peerid\n",
    "xfer_peer_id = peer_id\n",
    "\n",
    "# Print the result\n",
    "print(f\"header:%0D%0AUser-Agent: {user_agent}\")\n",
    "print(f\"peerid:{peer_id}\")\n",
    "print(f\"xfer_peerid:{xfer_peer_id}\")\n",
    "\n",
    "# Wait for user input to exit\n",
    "input(\"Press enter to exit\")\n"
   ]
  }
 ],
 "metadata": {
  "kernelspec": {
   "display_name": ".venv",
   "language": "python",
   "name": "python3"
  },
  "language_info": {
   "codemirror_mode": {
    "name": "ipython",
    "version": 3
   },
   "file_extension": ".py",
   "mimetype": "text/x-python",
   "name": "python",
   "nbconvert_exporter": "python",
   "pygments_lexer": "ipython3",
   "version": "3.10.11"
  },
  "orig_nbformat": 4
 },
 "nbformat": 4,
 "nbformat_minor": 2
}
